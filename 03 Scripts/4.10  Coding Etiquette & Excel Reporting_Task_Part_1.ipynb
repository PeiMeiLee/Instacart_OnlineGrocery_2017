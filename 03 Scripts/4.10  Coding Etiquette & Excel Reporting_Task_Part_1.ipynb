{
 "cells": [
  {
   "cell_type": "markdown",
   "id": "64749f65",
   "metadata": {},
   "source": [
    "### 1. Import the data set you exported in Exercise 4.9 into a new Jupyter notebook. This should be the merged version of your data that contains the new customers column."
   ]
  },
  {
   "cell_type": "code",
   "execution_count": 2,
   "id": "282347cf",
   "metadata": {},
   "outputs": [],
   "source": [
    "# Import libraries\n",
    "\n",
    "import pandas as pd\n",
    "import numpy as np\n",
    "import os\n",
    "import matplotlib.pyplot as plt\n",
    "import seaborn as sns\n",
    "import scipy"
   ]
  },
  {
   "cell_type": "code",
   "execution_count": 3,
   "id": "0c27676a",
   "metadata": {
    "scrolled": true
   },
   "outputs": [
    {
     "data": {
      "text/html": [
       "<div>\n",
       "<style scoped>\n",
       "    .dataframe tbody tr th:only-of-type {\n",
       "        vertical-align: middle;\n",
       "    }\n",
       "\n",
       "    .dataframe tbody tr th {\n",
       "        vertical-align: top;\n",
       "    }\n",
       "\n",
       "    .dataframe thead th {\n",
       "        text-align: right;\n",
       "    }\n",
       "</style>\n",
       "<table border=\"1\" class=\"dataframe\">\n",
       "  <thead>\n",
       "    <tr style=\"text-align: right;\">\n",
       "      <th></th>\n",
       "      <th>order_id</th>\n",
       "      <th>user_id</th>\n",
       "      <th>order_number</th>\n",
       "      <th>order_day_of_week</th>\n",
       "      <th>order_hour_of_day</th>\n",
       "      <th>no_of_days_since_last_order</th>\n",
       "      <th>product_id</th>\n",
       "      <th>add_to_cart_order</th>\n",
       "      <th>reordered</th>\n",
       "      <th>product_name</th>\n",
       "      <th>...</th>\n",
       "      <th>order_frequency_flag</th>\n",
       "      <th>first_name</th>\n",
       "      <th>surname</th>\n",
       "      <th>gender</th>\n",
       "      <th>state</th>\n",
       "      <th>age</th>\n",
       "      <th>date_joined</th>\n",
       "      <th>count_dependants</th>\n",
       "      <th>fam_status</th>\n",
       "      <th>income</th>\n",
       "    </tr>\n",
       "  </thead>\n",
       "  <tbody>\n",
       "    <tr>\n",
       "      <th>0</th>\n",
       "      <td>2539329</td>\n",
       "      <td>1</td>\n",
       "      <td>1</td>\n",
       "      <td>2</td>\n",
       "      <td>8</td>\n",
       "      <td>NaN</td>\n",
       "      <td>196</td>\n",
       "      <td>1</td>\n",
       "      <td>0</td>\n",
       "      <td>Soda</td>\n",
       "      <td>...</td>\n",
       "      <td>Non-frequent customer</td>\n",
       "      <td>Linda</td>\n",
       "      <td>Nguyen</td>\n",
       "      <td>Female</td>\n",
       "      <td>Alabama</td>\n",
       "      <td>31</td>\n",
       "      <td>2/17/2019</td>\n",
       "      <td>3</td>\n",
       "      <td>married</td>\n",
       "      <td>40423</td>\n",
       "    </tr>\n",
       "    <tr>\n",
       "      <th>1</th>\n",
       "      <td>2398795</td>\n",
       "      <td>1</td>\n",
       "      <td>2</td>\n",
       "      <td>3</td>\n",
       "      <td>7</td>\n",
       "      <td>15.0</td>\n",
       "      <td>196</td>\n",
       "      <td>1</td>\n",
       "      <td>1</td>\n",
       "      <td>Soda</td>\n",
       "      <td>...</td>\n",
       "      <td>Non-frequent customer</td>\n",
       "      <td>Linda</td>\n",
       "      <td>Nguyen</td>\n",
       "      <td>Female</td>\n",
       "      <td>Alabama</td>\n",
       "      <td>31</td>\n",
       "      <td>2/17/2019</td>\n",
       "      <td>3</td>\n",
       "      <td>married</td>\n",
       "      <td>40423</td>\n",
       "    </tr>\n",
       "    <tr>\n",
       "      <th>2</th>\n",
       "      <td>473747</td>\n",
       "      <td>1</td>\n",
       "      <td>3</td>\n",
       "      <td>3</td>\n",
       "      <td>12</td>\n",
       "      <td>21.0</td>\n",
       "      <td>196</td>\n",
       "      <td>1</td>\n",
       "      <td>1</td>\n",
       "      <td>Soda</td>\n",
       "      <td>...</td>\n",
       "      <td>Non-frequent customer</td>\n",
       "      <td>Linda</td>\n",
       "      <td>Nguyen</td>\n",
       "      <td>Female</td>\n",
       "      <td>Alabama</td>\n",
       "      <td>31</td>\n",
       "      <td>2/17/2019</td>\n",
       "      <td>3</td>\n",
       "      <td>married</td>\n",
       "      <td>40423</td>\n",
       "    </tr>\n",
       "    <tr>\n",
       "      <th>3</th>\n",
       "      <td>2254736</td>\n",
       "      <td>1</td>\n",
       "      <td>4</td>\n",
       "      <td>4</td>\n",
       "      <td>7</td>\n",
       "      <td>29.0</td>\n",
       "      <td>196</td>\n",
       "      <td>1</td>\n",
       "      <td>1</td>\n",
       "      <td>Soda</td>\n",
       "      <td>...</td>\n",
       "      <td>Non-frequent customer</td>\n",
       "      <td>Linda</td>\n",
       "      <td>Nguyen</td>\n",
       "      <td>Female</td>\n",
       "      <td>Alabama</td>\n",
       "      <td>31</td>\n",
       "      <td>2/17/2019</td>\n",
       "      <td>3</td>\n",
       "      <td>married</td>\n",
       "      <td>40423</td>\n",
       "    </tr>\n",
       "    <tr>\n",
       "      <th>4</th>\n",
       "      <td>431534</td>\n",
       "      <td>1</td>\n",
       "      <td>5</td>\n",
       "      <td>4</td>\n",
       "      <td>15</td>\n",
       "      <td>28.0</td>\n",
       "      <td>196</td>\n",
       "      <td>1</td>\n",
       "      <td>1</td>\n",
       "      <td>Soda</td>\n",
       "      <td>...</td>\n",
       "      <td>Non-frequent customer</td>\n",
       "      <td>Linda</td>\n",
       "      <td>Nguyen</td>\n",
       "      <td>Female</td>\n",
       "      <td>Alabama</td>\n",
       "      <td>31</td>\n",
       "      <td>2/17/2019</td>\n",
       "      <td>3</td>\n",
       "      <td>married</td>\n",
       "      <td>40423</td>\n",
       "    </tr>\n",
       "  </tbody>\n",
       "</table>\n",
       "<p>5 rows × 33 columns</p>\n",
       "</div>"
      ],
      "text/plain": [
       "   order_id  user_id  order_number  order_day_of_week  order_hour_of_day  \\\n",
       "0   2539329        1             1                  2                  8   \n",
       "1   2398795        1             2                  3                  7   \n",
       "2    473747        1             3                  3                 12   \n",
       "3   2254736        1             4                  4                  7   \n",
       "4    431534        1             5                  4                 15   \n",
       "\n",
       "   no_of_days_since_last_order  product_id  add_to_cart_order  reordered  \\\n",
       "0                          NaN         196                  1          0   \n",
       "1                         15.0         196                  1          1   \n",
       "2                         21.0         196                  1          1   \n",
       "3                         29.0         196                  1          1   \n",
       "4                         28.0         196                  1          1   \n",
       "\n",
       "  product_name  ...   order_frequency_flag  first_name  surname  gender  \\\n",
       "0         Soda  ...  Non-frequent customer       Linda   Nguyen  Female   \n",
       "1         Soda  ...  Non-frequent customer       Linda   Nguyen  Female   \n",
       "2         Soda  ...  Non-frequent customer       Linda   Nguyen  Female   \n",
       "3         Soda  ...  Non-frequent customer       Linda   Nguyen  Female   \n",
       "4         Soda  ...  Non-frequent customer       Linda   Nguyen  Female   \n",
       "\n",
       "     state age date_joined count_dependants  fam_status income  \n",
       "0  Alabama  31   2/17/2019                3     married  40423  \n",
       "1  Alabama  31   2/17/2019                3     married  40423  \n",
       "2  Alabama  31   2/17/2019                3     married  40423  \n",
       "3  Alabama  31   2/17/2019                3     married  40423  \n",
       "4  Alabama  31   2/17/2019                3     married  40423  \n",
       "\n",
       "[5 rows x 33 columns]"
      ]
     },
     "execution_count": 3,
     "metadata": {},
     "output_type": "execute_result"
    }
   ],
   "source": [
    "# Import data set\n",
    "\n",
    "path = r'/Users/peimei/09-2023 Instacart Basket Analysis'\n",
    "ords_prods_custs = pd.read_pickle(os.path.join(path, '02 Data', 'Prepared Data', 'ords_prods_customers.pkl'))\n",
    "ords_prods_custs.head()"
   ]
  },
  {
   "cell_type": "code",
   "execution_count": 4,
   "id": "407c47d4",
   "metadata": {},
   "outputs": [
    {
     "data": {
      "text/plain": [
       "1      3209914\n",
       "2      3053740\n",
       "3      2867360\n",
       "4      2661008\n",
       "5      2439325\n",
       "        ...   \n",
       "138          1\n",
       "143          1\n",
       "140          1\n",
       "141          1\n",
       "139          1\n",
       "Name: add_to_cart_order, Length: 145, dtype: int64"
      ]
     },
     "execution_count": 4,
     "metadata": {},
     "output_type": "execute_result"
    }
   ],
   "source": [
    "ords_prods_custs['add_to_cart_order'].value_counts(dropna = False)"
   ]
  },
  {
   "cell_type": "code",
   "execution_count": 5,
   "id": "cb229c7c",
   "metadata": {},
   "outputs": [
    {
     "name": "stdout",
     "output_type": "stream",
     "text": [
      "<class 'pandas.core.frame.DataFrame'>\n",
      "Int64Index: 32399732 entries, 0 to 32399731\n",
      "Data columns (total 33 columns):\n",
      " #   Column                        Dtype   \n",
      "---  ------                        -----   \n",
      " 0   order_id                      int64   \n",
      " 1   user_id                       int64   \n",
      " 2   order_number                  int64   \n",
      " 3   order_day_of_week             int64   \n",
      " 4   order_hour_of_day             int64   \n",
      " 5   no_of_days_since_last_order   float64 \n",
      " 6   product_id                    int64   \n",
      " 7   add_to_cart_order             int64   \n",
      " 8   reordered                     int64   \n",
      " 9   product_name                  object  \n",
      " 10  aisle_id                      int64   \n",
      " 11  department_id                 int64   \n",
      " 12  prices                        float64 \n",
      " 13  merge_result                  category\n",
      " 14  price_range_loc               object  \n",
      " 15  busiest day                   object  \n",
      " 16  busiest days                  object  \n",
      " 17  busiest_period_of_day         object  \n",
      " 18  max_order                     int64   \n",
      " 19  loyalty_flag                  object  \n",
      " 20  price_mean                    float64 \n",
      " 21  spending_flag                 object  \n",
      " 22  median_days_since_last_order  float64 \n",
      " 23  order_frequency_flag          object  \n",
      " 24  first_name                    object  \n",
      " 25  surname                       object  \n",
      " 26  gender                        object  \n",
      " 27  state                         object  \n",
      " 28  age                           int64   \n",
      " 29  date_joined                   object  \n",
      " 30  count_dependants              int64   \n",
      " 31  fam_status                    object  \n",
      " 32  income                        int64   \n",
      "dtypes: category(1), float64(4), int64(14), object(14)\n",
      "memory usage: 8.0+ GB\n"
     ]
    }
   ],
   "source": [
    "ords_prods_custs.info()"
   ]
  },
  {
   "cell_type": "markdown",
   "id": "737ed0f8",
   "metadata": {},
   "source": [
    "**Comment:\n",
    "<br>There is PII data in two columns \"first_name\" and \"surname.\" Necessary measure is to remove these two cloumns from the dataset for the rest of my analysis.**"
   ]
  },
  {
   "cell_type": "markdown",
   "id": "db473c24",
   "metadata": {},
   "source": [
    "### 2. Consider any security implications that might exist for this new data. You’ll need to address any PII data in the data before continuing your analysis."
   ]
  },
  {
   "cell_type": "code",
   "execution_count": 6,
   "id": "c9c44cc4",
   "metadata": {},
   "outputs": [],
   "source": [
    "# Drop two columns containing PII data\n",
    "\n",
    "ords_prods_custs_noPII = ords_prods_custs.drop(columns = ['first_name','surname'])\n"
   ]
  },
  {
   "cell_type": "code",
   "execution_count": 7,
   "id": "13b97e29",
   "metadata": {},
   "outputs": [
    {
     "name": "stdout",
     "output_type": "stream",
     "text": [
      "<class 'pandas.core.frame.DataFrame'>\n",
      "Int64Index: 32399732 entries, 0 to 32399731\n",
      "Data columns (total 31 columns):\n",
      " #   Column                        Dtype   \n",
      "---  ------                        -----   \n",
      " 0   order_id                      int64   \n",
      " 1   user_id                       int64   \n",
      " 2   order_number                  int64   \n",
      " 3   order_day_of_week             int64   \n",
      " 4   order_hour_of_day             int64   \n",
      " 5   no_of_days_since_last_order   float64 \n",
      " 6   product_id                    int64   \n",
      " 7   add_to_cart_order             int64   \n",
      " 8   reordered                     int64   \n",
      " 9   product_name                  object  \n",
      " 10  aisle_id                      int64   \n",
      " 11  department_id                 int64   \n",
      " 12  prices                        float64 \n",
      " 13  merge_result                  category\n",
      " 14  price_range_loc               object  \n",
      " 15  busiest day                   object  \n",
      " 16  busiest days                  object  \n",
      " 17  busiest_period_of_day         object  \n",
      " 18  max_order                     int64   \n",
      " 19  loyalty_flag                  object  \n",
      " 20  price_mean                    float64 \n",
      " 21  spending_flag                 object  \n",
      " 22  median_days_since_last_order  float64 \n",
      " 23  order_frequency_flag          object  \n",
      " 24  gender                        object  \n",
      " 25  state                         object  \n",
      " 26  age                           int64   \n",
      " 27  date_joined                   object  \n",
      " 28  count_dependants              int64   \n",
      " 29  fam_status                    object  \n",
      " 30  income                        int64   \n",
      "dtypes: category(1), float64(4), int64(14), object(12)\n",
      "memory usage: 7.5+ GB\n"
     ]
    }
   ],
   "source": [
    "# Confirm the output\n",
    "\n",
    "ords_prods_custs_noPII.info()"
   ]
  },
  {
   "cell_type": "markdown",
   "id": "0091f360",
   "metadata": {},
   "source": [
    "**Comment:\n",
    "<br>Both \"first_name\" and \"surname\" colums have been removed.**"
   ]
  },
  {
   "cell_type": "markdown",
   "id": "5ea10821",
   "metadata": {},
   "source": [
    "### 3. The Instacart officers are interested in comparing customer behavior in different geographic areas. Create a regional segmentation of the data. You’ll need to create a “Region” column based on the “State” column from your customers data set.\n",
    "Use the region information in this Wikipedia article to create your column (you only need to create regions, not divisions).\n",
    "Determine whether there’s a difference in spending habits between the different U.S. regions. (Hint: You can do this by crossing the variable you just created with the spending flag.)"
   ]
  },
  {
   "cell_type": "code",
   "execution_count": 8,
   "id": "d15b7e66",
   "metadata": {},
   "outputs": [],
   "source": [
    "# Create lists of states according to the regions\n",
    "\n",
    "Region_1 =['Maine',\n",
    "'New Hampshire',\n",
    "'Vermont',\n",
    "'Massachusetts',\n",
    "'Rhode Island',\n",
    "'Connecticut',\n",
    "'New York',\n",
    "'Pennsylvania',\n",
    "'New Jersey']\n",
    "\n",
    "Region_2 =['Wisconsin',\n",
    "'Michigan',\n",
    "'Illinois',\n",
    "'Indiana',\n",
    "'Ohio',\n",
    "'North Dakota',\n",
    "'South Dakota',\n",
    "'Nebraska',\n",
    "'Kansas',\n",
    "'Minnesota',\n",
    "'Iowa',\n",
    "'Missouri']\n",
    "\n",
    "Region_3 =['Delaware',\n",
    "'Maryland',\n",
    "'District of Columbia',\n",
    "'Virginia',\n",
    "'West Virginia',\n",
    "'North Carolina',\n",
    "'South Carolina',\n",
    "'Georgia',\n",
    "'Florida',\n",
    "'Kentucky',\n",
    "'Tennessee',\n",
    "'Mississippi',\n",
    "'Alabama',\n",
    "'Oklahoma',\n",
    "'Texas',\n",
    "'Arkansas',\n",
    "'Louisiana']\n",
    "\n",
    "Region_4 =['Idaho',\n",
    "'Montana',\n",
    "'Wyoming',\n",
    "'Nevada',\n",
    "'Utah',\n",
    "'Colorado',\n",
    "'Arizona',\n",
    "'New Mexico',\n",
    "'Alaska',\n",
    "'Washington',\n",
    "'Oregon',\n",
    "'California',\n",
    "'Hawaii']"
   ]
  },
  {
   "cell_type": "code",
   "execution_count": 9,
   "id": "64a51ebc",
   "metadata": {},
   "outputs": [],
   "source": [
    "# Use loc() to assign labels\n",
    "\n",
    "ords_prods_custs_noPII.loc[ords_prods_custs_noPII['state'].isin(Region_1), 'region'] = 'Northeast'"
   ]
  },
  {
   "cell_type": "code",
   "execution_count": 10,
   "id": "675c7c63",
   "metadata": {},
   "outputs": [],
   "source": [
    "ords_prods_custs_noPII.loc[ords_prods_custs_noPII['state'].isin(Region_2), 'region'] = 'Midwest'"
   ]
  },
  {
   "cell_type": "code",
   "execution_count": 11,
   "id": "e232ec4b",
   "metadata": {},
   "outputs": [],
   "source": [
    "ords_prods_custs_noPII.loc[ords_prods_custs_noPII['state'].isin(Region_3), 'region'] = 'South'"
   ]
  },
  {
   "cell_type": "code",
   "execution_count": 12,
   "id": "79211ac4",
   "metadata": {},
   "outputs": [],
   "source": [
    "ords_prods_custs_noPII.loc[ords_prods_custs_noPII['state'].isin(Region_4), 'region'] = 'West'"
   ]
  },
  {
   "cell_type": "code",
   "execution_count": 13,
   "id": "535e18ad",
   "metadata": {},
   "outputs": [
    {
     "data": {
      "text/plain": [
       "Midwest       7596065\n",
       "Northeast     5721892\n",
       "South        10790096\n",
       "West          8291679\n",
       "Name: region, dtype: int64"
      ]
     },
     "execution_count": 13,
     "metadata": {},
     "output_type": "execute_result"
    }
   ],
   "source": [
    "# Check output\n",
    "\n",
    "ords_prods_custs_noPII['region'].value_counts(dropna = False).sort_index()"
   ]
  },
  {
   "cell_type": "code",
   "execution_count": 14,
   "id": "b3c54939",
   "metadata": {},
   "outputs": [],
   "source": [
    "# Examine whether there is a difference between regions in spending habits\n",
    "# Create a crosstab between region and spending_flag \n",
    "\n",
    "cross_region_spend = pd.crosstab(ords_prods_custs_noPII['region'], ords_prods_custs_noPII['spending_flag'], dropna = False)"
   ]
  },
  {
   "cell_type": "code",
   "execution_count": 15,
   "id": "d12f522a",
   "metadata": {
    "scrolled": true
   },
   "outputs": [
    {
     "data": {
      "text/html": [
       "<div>\n",
       "<style scoped>\n",
       "    .dataframe tbody tr th:only-of-type {\n",
       "        vertical-align: middle;\n",
       "    }\n",
       "\n",
       "    .dataframe tbody tr th {\n",
       "        vertical-align: top;\n",
       "    }\n",
       "\n",
       "    .dataframe thead th {\n",
       "        text-align: right;\n",
       "    }\n",
       "</style>\n",
       "<table border=\"1\" class=\"dataframe\">\n",
       "  <thead>\n",
       "    <tr style=\"text-align: right;\">\n",
       "      <th>spending_flag</th>\n",
       "      <th>High spender</th>\n",
       "      <th>Low spender</th>\n",
       "    </tr>\n",
       "    <tr>\n",
       "      <th>region</th>\n",
       "      <th></th>\n",
       "      <th></th>\n",
       "    </tr>\n",
       "  </thead>\n",
       "  <tbody>\n",
       "    <tr>\n",
       "      <th>Midwest</th>\n",
       "      <td>29265</td>\n",
       "      <td>7566800</td>\n",
       "    </tr>\n",
       "    <tr>\n",
       "      <th>Northeast</th>\n",
       "      <td>18639</td>\n",
       "      <td>5703253</td>\n",
       "    </tr>\n",
       "    <tr>\n",
       "      <th>South</th>\n",
       "      <td>40577</td>\n",
       "      <td>10749519</td>\n",
       "    </tr>\n",
       "    <tr>\n",
       "      <th>West</th>\n",
       "      <td>31238</td>\n",
       "      <td>8260441</td>\n",
       "    </tr>\n",
       "  </tbody>\n",
       "</table>\n",
       "</div>"
      ],
      "text/plain": [
       "spending_flag  High spender  Low spender\n",
       "region                                  \n",
       "Midwest               29265      7566800\n",
       "Northeast             18639      5703253\n",
       "South                 40577     10749519\n",
       "West                  31238      8260441"
      ]
     },
     "execution_count": 15,
     "metadata": {},
     "output_type": "execute_result"
    }
   ],
   "source": [
    "cross_region_spend"
   ]
  },
  {
   "cell_type": "code",
   "execution_count": 16,
   "id": "4f23fd28",
   "metadata": {
    "scrolled": false
   },
   "outputs": [
    {
     "data": {
      "image/png": "[encoded data removed]",
      "text/plain": [
       "<Figure size 640x480 with 1 Axes>"
      ]
     },
     "metadata": {},
     "output_type": "display_data"
    }
   ],
   "source": [
    "spend_counts = ords_prods_custs_noPII['spending_flag'].value_counts()\n",
    "donut_spend_habit = spend_counts.plot.pie(startangle = 45,\n",
    "    autopct='%.1f%%',\n",
    "    labeldistance = 1.1,\n",
    "    wedgeprops={'edgecolor':'black','linewidth':.4})\n",
    "\n",
    "centre_circle = plt.Circle((0,0),0.65,\n",
    "                           color='black', \n",
    "                           fc='white',\n",
    "                           linewidth=.4)\n",
    "fig = plt.gcf()\n",
    "fig.gca().add_artist(centre_circle)\n",
    "\n",
    "plt.title('Distribution of Customers by Spending Habits')\n",
    "plt.ylabel(None)\n",
    "plt.show()"
   ]
  },
  {
   "cell_type": "code",
   "execution_count": 17,
   "id": "c7ebfa26",
   "metadata": {},
   "outputs": [],
   "source": [
    "# Export viz \n",
    "\n",
    "donut_spend_habit.figure.savefig(os.path.join(path, '04 Analysis','Visualizations','4.10_Visualizations', 'donut_spend_habits.png'))"
   ]
  },
  {
   "cell_type": "markdown",
   "id": "a5a53f1e",
   "metadata": {},
   "source": [
    "### Observations:\n",
    "**As the proportion of \"High spenders\" (0,4%) is almost non-existing in our customer base, it's not very interesting to see how the spending habits vary across the regions. As an alternative, I suggest we look at how the sales of different price ranges of products perform across regions.**<br>\n",
    "\n",
    "Note:<br>\n",
    "Low spender: The mean of the prices of products purchased by a user is lower than 10.<br>\n",
    "High spender: The mean of the prices of products purchased by a user is higher than or equal to 10."
   ]
  },
  {
   "cell_type": "code",
   "execution_count": 18,
   "id": "04018ae7",
   "metadata": {},
   "outputs": [],
   "source": [
    "# Assigning flags\n",
    "\n",
    "def price_label(row):\n",
    "    \n",
    "    if row['prices'] <= 5:\n",
    "        return 'Low-range product'\n",
    "    elif (row['prices'] > 5) and (row['prices'] <= 15):\n",
    "        return 'Mid-range product'\n",
    "    elif (row['prices'] > 15):\n",
    "        return 'High-range product'\n",
    "    else: return 'Not enough data'"
   ]
  },
  {
   "cell_type": "code",
   "execution_count": null,
   "id": "df6d5f29",
   "metadata": {},
   "outputs": [],
   "source": [
    "# Apply the function\n",
    "ords_prods_custs_noPII['price_range'] = ords_prods_custs_noPII.apply(price_label, axis = 1)"
   ]
  },
  {
   "cell_type": "code",
   "execution_count": null,
   "id": "c3f39b46",
   "metadata": {
    "scrolled": false
   },
   "outputs": [],
   "source": [
    "price_ranges = ords_prods_custs_noPII['price_range'].value_counts(dropna = False).sort_values(ascending = True)"
   ]
  },
  {
   "cell_type": "code",
   "execution_count": null,
   "id": "8ac1a77e",
   "metadata": {
    "scrolled": true
   },
   "outputs": [],
   "source": [
    "# Create the horizontal bar chart\n",
    "bar_price_range = price_ranges.plot.barh(figsize=(10,5))\n",
    "        \n",
    "# Add percentages to each bar\n",
    "total = price_ranges.sum()\n",
    "for index, value in enumerate(price_ranges):\n",
    "    percentage = (value / total) * 100\n",
    "    plt.text(value, index, f'{percentage:.1f}%', ha='left', va='center')\n",
    "\n",
    "# Set labels and title\n",
    "plt.xlabel('Number of Products', fontweight = 'bold')\n",
    "plt.ylabel(' ')\n",
    "plt.title('Distribution of Products by Price Ranges')\n",
    "\n",
    "# Export viz \n",
    "plt.savefig(os.path.join(path, '04 Analysis','Visualizations','4.10_Visualizations','bar_price_range.png'), dpi=100, bbox_inches='tight')\n",
    "\n"
   ]
  },
  {
   "cell_type": "code",
   "execution_count": null,
   "id": "5e66ea14",
   "metadata": {
    "scrolled": false
   },
   "outputs": [],
   "source": [
    "cross_region_price_range = pd.crosstab(ords_prods_custs_noPII['region'], ords_prods_custs_noPII['price_range'], dropna = False)\n",
    "cross_region_price_range"
   ]
  },
  {
   "cell_type": "code",
   "execution_count": null,
   "id": "a6d6b91e",
   "metadata": {
    "scrolled": true
   },
   "outputs": [],
   "source": [
    "# Normalize result\n",
    "cross_region_price_range_pct = cross_region_price_range.div(cross_region_price_range.sum(1), axis=0)\n",
    "\n",
    "ax = cross_region_price_range_pct.plot(kind='bar',figsize=(20,6.5),width = 0.8,edgecolor=None)\n",
    "plt.legend(labels=cross_region_price_range.columns,fontsize= 14)\n",
    "plt.title(\"Sales of Products of Different Price Ranges by Region\")\n",
    "\n",
    "plt.xticks(fontsize=11, rotation = 0)\n",
    "for spine in plt.gca().spines.values():\n",
    "    spine.set_visible(False)\n",
    "plt.yticks([])\n",
    "plt.xlabel(' ')\n",
    "\n",
    "# Add this loop to add the annotations\n",
    "for p in ax.patches:\n",
    "    width = p.get_width()\n",
    "    height = p.get_height()\n",
    "    x, y = p.get_xy() \n",
    "    ax.annotate(f'{height:.2%}', (x + width/2, y + height*1.02), ha='center')"
   ]
  },
  {
   "cell_type": "code",
   "execution_count": null,
   "id": "c9e9ba02",
   "metadata": {},
   "outputs": [],
   "source": [
    "# Export viz \n",
    "\n",
    "ax.figure.savefig(os.path.join(path, '04 Analysis','Visualizations','4.10_Visualizations', 'bar_region_price_range.png'))"
   ]
  },
  {
   "cell_type": "markdown",
   "id": "f2cde397",
   "metadata": {},
   "source": [
    "### Observations:\n",
    "**1. All region share the same distribution of the three product categories.**  \n",
    "**2. The best performing products are mid-range products across all regions, followed by low-ranged products and lastly high-range products taking up.**"
   ]
  },
  {
   "cell_type": "markdown",
   "id": "3043f314",
   "metadata": {},
   "source": [
    "### 4.  The Instacart CFO isn’t interested in customers who don’t generate much revenue for the app. Create an exclusion flag for low-activity customers (customers with less than 5 orders) and exclude them from the data. Make sure you export this sample."
   ]
  },
  {
   "cell_type": "code",
   "execution_count": null,
   "id": "8d7e5c8b",
   "metadata": {},
   "outputs": [],
   "source": [
    "# Create an exclusion flag using loc()\n",
    "\n",
    "ords_prods_custs_noPII.loc[ords_prods_custs_noPII['max_order'] <5 , 'low_activity'] = 'max_order < 5'"
   ]
  },
  {
   "cell_type": "code",
   "execution_count": null,
   "id": "1526181f",
   "metadata": {},
   "outputs": [],
   "source": [
    "ords_prods_custs_noPII.loc[ords_prods_custs_noPII['max_order'] >=5 , 'low_activity'] = 'max_order >=5'"
   ]
  },
  {
   "cell_type": "code",
   "execution_count": null,
   "id": "a0c7f1e6",
   "metadata": {},
   "outputs": [],
   "source": [
    "ords_prods_custs_noPII['low_activity'].value_counts(dropna = False)"
   ]
  },
  {
   "cell_type": "code",
   "execution_count": null,
   "id": "5ec9dad7",
   "metadata": {
    "scrolled": true
   },
   "outputs": [],
   "source": [
    "# Exclude rows of \"low activity customers\"\n",
    "\n",
    "ords_prods_custs_noPII_2 = ords_prods_custs_noPII[ords_prods_custs_noPII['low_activity'] == 'max_order >=5']\n",
    "ords_prods_custs_noPII_2[['user_id','max_order']].head(10)"
   ]
  },
  {
   "cell_type": "code",
   "execution_count": null,
   "id": "816d7604",
   "metadata": {},
   "outputs": [],
   "source": [
    "ords_prods_custs_noPII_2[['user_id','max_order']].shape"
   ]
  },
  {
   "cell_type": "code",
   "execution_count": null,
   "id": "8b7a73a8",
   "metadata": {},
   "outputs": [],
   "source": [
    "# Export the dataframe\n",
    "\n",
    "ords_prods_custs_noPII_2.to_pickle(os.path.join(path, '02 Data','Prepared Data', 'orders_products_custs_noPII_without_low_activity.pkl'))"
   ]
  },
  {
   "cell_type": "markdown",
   "id": "79b697da",
   "metadata": {},
   "source": [
    "### 5. The marketing and business strategy units at Instacart want to create more-relevant marketing strategies for different products and are, thus, curious about customer profiling in their database. Create a profiling variable based on age, income, certain goods in the “department_id” column, and number of dependents. You might also use the “orders_day_of_the_week” and “order_hour_of_day” columns if you can think of a way they would impact customer profiles. (Hint: As an example, try thinking of what characteristics would lead you to the profile “Single adult” or “Young parent.”)"
   ]
  },
  {
   "cell_type": "code",
   "execution_count": null,
   "id": "956997f3",
   "metadata": {},
   "outputs": [],
   "source": [
    "ords_prods_custs_noPII_2['age'].value_counts(dropna = False).sort_index()"
   ]
  },
  {
   "cell_type": "code",
   "execution_count": null,
   "id": "fbc4d4b4",
   "metadata": {
    "scrolled": true
   },
   "outputs": [],
   "source": [
    "# Create Age flags (Young: 18 - 39, Middle-Aged: 40 - 59, Old: 60 and more)\n",
    "\n",
    "ords_prods_custs_noPII_2.loc[(ords_prods_custs_noPII_2['age'] >= 18) & (ords_prods_custs_noPII_2['age'] <= 39), 'age_flag'] = 'Young'"
   ]
  },
  {
   "cell_type": "code",
   "execution_count": null,
   "id": "f190147d",
   "metadata": {},
   "outputs": [],
   "source": [
    "ords_prods_custs_noPII_2.loc[(ords_prods_custs_noPII_2['age'] >= 40) & (ords_prods_custs_noPII_2['age'] <= 59), 'age_flag'] = 'Middle-Aged'"
   ]
  },
  {
   "cell_type": "code",
   "execution_count": null,
   "id": "9e47dad0",
   "metadata": {},
   "outputs": [],
   "source": [
    "ords_prods_custs_noPII_2.loc[ords_prods_custs_noPII_2['age'] >= 60, 'age_flag'] = 'Old'"
   ]
  },
  {
   "cell_type": "code",
   "execution_count": null,
   "id": "6b9107f7",
   "metadata": {},
   "outputs": [],
   "source": [
    "ords_prods_custs_noPII_2['age_flag'].value_counts(dropna = False)"
   ]
  },
  {
   "cell_type": "code",
   "execution_count": null,
   "id": "8987bd90",
   "metadata": {},
   "outputs": [],
   "source": []
  },
  {
   "cell_type": "code",
   "execution_count": null,
   "id": "425c3cbe",
   "metadata": {},
   "outputs": [],
   "source": [
    "# Create a pie chart\n",
    "\n",
    "age_flag_counts = {\n",
    "    'Young': 8417672,\n",
    "    'Old' : 8329349,\n",
    "    'Middle-Aged' : 7664145\n",
    "}\n",
    "\n",
    "pie_age_groups = plt.pie(age_flag_counts.values(), labels = age_flag_counts.keys(), autopct = '%.1f%%',\n",
    "       wedgeprops = {'edgecolor' : 'black'})\n",
    "plt.title('Age Group Composition of All Customers', fontsize = 14)\n",
    "plt.tight_layout()\n",
    "\n",
    "# Export viz \n",
    "\n",
    "plt.savefig(os.path.join(path, '04 Analysis','Visualizations','4.10_Visualizations', 'pie_age_groups.png'))"
   ]
  },
  {
   "cell_type": "markdown",
   "id": "f7922258",
   "metadata": {},
   "source": [
    "### Observations:\n",
    "**Across the states, young and old adults each account for over one-third of our customers, while middle-aged adults represent just under one-third.**\n"
   ]
  },
  {
   "cell_type": "code",
   "execution_count": null,
   "id": "b58585f7",
   "metadata": {
    "scrolled": true
   },
   "outputs": [],
   "source": [
    "# Examine age group composition in each region\n",
    "# Create a crosstab between region and age group compostion \n",
    "\n",
    "cross_region_age = pd.crosstab(ords_prods_custs_noPII_2['region'], ords_prods_custs_noPII_2['age_flag'], dropna = False)\n",
    "bar_cross_region_age = cross_region_age.plot.barh()\n",
    "\n",
    "plt.title('Age Group Composition by Region', fontsize = 14)\n",
    "plt.xlabel('Number of Customers (in Millions)', fontweight = 'bold')\n",
    "plt.ylabel('Region', fontweight = 'bold')\n",
    "plt.xlim(1500000)\n",
    "plt.show()"
   ]
  },
  {
   "cell_type": "code",
   "execution_count": null,
   "id": "d512d334",
   "metadata": {},
   "outputs": [],
   "source": [
    "# Export viz \n",
    "\n",
    "bar_cross_region_age.figure.savefig(os.path.join(path, '04 Analysis','Visualizations','4.10_Visualizations', 'bar_cross_region_age.png'))"
   ]
  },
  {
   "cell_type": "markdown",
   "id": "a17c3f20",
   "metadata": {},
   "source": [
    "### Observations:\n",
    "**The South and Midwest regions mirror the nationwide age group composition, with a predominance of young adults, followed by old adults and then middle-aged adults. However, in the West and Northeast regions, the old-adult group slightly surpasses the young-adult group in size.**"
   ]
  },
  {
   "cell_type": "code",
   "execution_count": null,
   "id": "df5f426c",
   "metadata": {
    "scrolled": true
   },
   "outputs": [],
   "source": [
    "ords_prods_custs_noPII_2['income'].describe()"
   ]
  },
  {
   "cell_type": "markdown",
   "id": "4823e9b8",
   "metadata": {},
   "source": [
    "**Reference:**\n",
    "<br>**\"Median household income was 61,372 in 2017, an increase in real terms of 1.8 percent from the 2016 median of $60,309...\"**\n",
    "https://www.census.gov/content/dam/Census/library/publications/2018/demo/p60-263.pdf"
   ]
  },
  {
   "cell_type": "code",
   "execution_count": null,
   "id": "058e6732",
   "metadata": {
    "scrolled": true
   },
   "outputs": [],
   "source": [
    "# Creaet Income flags according to quartiles. \n",
    "# High income: >128147, Regular income: >61372 & <=128147, Low income: <=61372\n",
    "# Reference: \"Median household income was **$61,372** in 2017, an increase in real terms of 1.8 percent from the 2016 median of $60,309...\n",
    "# https://www.census.gov/content/dam/Census/library/publications/2018/demo/p60-263.pdf\n",
    "\n",
    "ords_prods_custs_noPII_2.loc[ords_prods_custs_noPII_2['income'] <= 61372, 'income_flag'] = 'Low income'"
   ]
  },
  {
   "cell_type": "code",
   "execution_count": null,
   "id": "dfc3f979",
   "metadata": {},
   "outputs": [],
   "source": [
    "ords_prods_custs_noPII_2.loc[(ords_prods_custs_noPII_2['income'] > 61372) & (ords_prods_custs_noPII_2['income'] <= 128147) , 'income_flag'] = 'Regular income'"
   ]
  },
  {
   "cell_type": "code",
   "execution_count": null,
   "id": "4c4706d6",
   "metadata": {},
   "outputs": [],
   "source": [
    "ords_prods_custs_noPII_2.loc[ords_prods_custs_noPII_2['income'] > 128147, 'income_flag'] = 'High income'"
   ]
  },
  {
   "cell_type": "code",
   "execution_count": null,
   "id": "b58b4f9d",
   "metadata": {},
   "outputs": [],
   "source": [
    "income_flag_counts = ords_prods_custs_noPII_2['income_flag'].value_counts(dropna = False)"
   ]
  },
  {
   "cell_type": "code",
   "execution_count": null,
   "id": "f0eedeb4",
   "metadata": {},
   "outputs": [],
   "source": [
    "income_flag_counts"
   ]
  },
  {
   "cell_type": "code",
   "execution_count": null,
   "id": "04bd5e73",
   "metadata": {
    "scrolled": false
   },
   "outputs": [],
   "source": [
    "# Create a pie chart\n",
    "\n",
    "income_flag_counts = {\n",
    "    'Regular income': 13553065,\n",
    "    'Low income' : 4755655,\n",
    "    'High income' : 6102446\n",
    "}\n",
    "\n",
    "pie_income_groups = plt.pie(income_flag_counts.values(), labels = income_flag_counts.keys(), autopct = '%.1f%%',\n",
    "       wedgeprops = {'edgecolor' : 'black'})\n",
    "plt.title('Income Group Composition of All Customers', fontsize = 14)\n",
    "plt.tight_layout()\n",
    "\n",
    "# Export viz \n",
    "\n",
    "plt.savefig(os.path.join(path, '04 Analysis','Visualizations','4.10_Visualizations', 'pie_income_groups.png'))\n"
   ]
  },
  {
   "cell_type": "markdown",
   "id": "8122b363",
   "metadata": {},
   "source": [
    "### Observations:\n",
    "**Taking the nationwide median income (61,372) as the baseline for a regular-income and the third quartile value (128,147) as the baseline for a high-income, we have one quarter of our customers profiled as \"high-income\" earners, 55.5% as \"regular-income\" earners and 19.5% as \"low-income\" earners.**"
   ]
  },
  {
   "cell_type": "code",
   "execution_count": null,
   "id": "4d34a854",
   "metadata": {
    "scrolled": true
   },
   "outputs": [],
   "source": [
    "# Examine customer of different income levels across regions\n",
    "# Create a crosstab between region and income_flag \n",
    "\n",
    "cross_region_income = pd.crosstab(ords_prods_custs_noPII_2['region'], ords_prods_custs_noPII_2['income_flag'], dropna = False)\n",
    "bar_cross_region_income = cross_region_income.plot.barh()\n",
    "\n",
    "plt.xlabel('Number of Customers (in Millions)', fontweight = 'bold')\n",
    "plt.ylabel('Region', fontweight = 'bold')\n",
    "plt.title('Income Group Composition by Region')\n",
    "\n",
    "plt.show()"
   ]
  },
  {
   "cell_type": "code",
   "execution_count": null,
   "id": "26671991",
   "metadata": {},
   "outputs": [],
   "source": [
    "# Export viz \n",
    "\n",
    "bar_cross_region_income.figure.savefig(os.path.join(path, '04 Analysis','Visualizations','4.10_Visualizations', 'bar_cross_region_income.png'))"
   ]
  },
  {
   "cell_type": "markdown",
   "id": "ee6beb78",
   "metadata": {},
   "source": [
    "### Observations:\n",
    "**In all regions, the distribution of income groups closely mirrors the nationwide pattern. The majority of customers in every region fall within the category of regular-income earners. Moreover, the high-income group constitutes a larger portion of the customer base than the low-income group, indicating a consistent trend across the nation.**"
   ]
  },
  {
   "cell_type": "code",
   "execution_count": null,
   "id": "aa3ca39c",
   "metadata": {},
   "outputs": [],
   "source": [
    "df_departments = pd.read_csv(os.path.join(path, '02 Data', 'Prepared Data', 'departments_wrangled.csv'))\n",
    "df_departments"
   ]
  },
  {
   "cell_type": "code",
   "execution_count": null,
   "id": "2bbcc610",
   "metadata": {},
   "outputs": [],
   "source": [
    "# Rename column name to \"department_id\"\n",
    "\n",
    "df_departments_2 = df_departments.rename(columns = {'Unnamed: 0':'department_id'})\n",
    "df_departments_2"
   ]
  },
  {
   "cell_type": "code",
   "execution_count": null,
   "id": "7199e1b4",
   "metadata": {},
   "outputs": [],
   "source": [
    "# Merge the main df with the df_departments\n",
    "\n",
    "\n",
    "ords_prods_custs_noPII_3 = ords_prods_custs_noPII_2.merge(df_departments_2, on = 'department_id')"
   ]
  },
  {
   "cell_type": "code",
   "execution_count": null,
   "id": "e2ec440b",
   "metadata": {},
   "outputs": [],
   "source": [
    "# Check output\n",
    "\n",
    "ords_prods_custs_noPII_3.head(10)"
   ]
  },
  {
   "cell_type": "code",
   "execution_count": null,
   "id": "30e1dbb3",
   "metadata": {
    "scrolled": false
   },
   "outputs": [],
   "source": [
    "# Create a bar chart of departments\n",
    " \n",
    "department_counts = ords_prods_custs_noPII_3['department'].value_counts()\n",
    "department_counts = department_counts.sort_values(ascending = True) \n",
    "# Sort the DataFrame in descending order\n",
    "\n",
    "# Increase the figure width to make it wider\n",
    "fig, ax = plt.subplots(figsize=(15, 6))\n",
    "bar_department = department_counts.plot.barh(ax = ax)\n",
    "\n",
    "plt.xlabel('Number of Orders (in Millions)', fontweight = 'bold')\n",
    "plt.ylabel('Department of Sold Items', fontweight = 'bold')\n",
    "plt.title('Popularity of Department by Number of Orders')\n",
    "plt.show()"
   ]
  },
  {
   "cell_type": "code",
   "execution_count": null,
   "id": "c7183ecb",
   "metadata": {},
   "outputs": [],
   "source": [
    "# Export viz \n",
    "\n",
    "bar_department.figure.savefig(os.path.join(path, '04 Analysis','Visualizations','4.10_Visualizations', 'bar_department.png'))"
   ]
  },
  {
   "cell_type": "markdown",
   "id": "2429f364",
   "metadata": {},
   "source": [
    "### Observations:\n",
    "**The 'Produce' department stands out as the clear favorite, boasting the highest count of orders by a significant margin. 'Dairy Eggs' secures a solid second place, making it the second most sought-after department.**"
   ]
  },
  {
   "cell_type": "code",
   "execution_count": null,
   "id": "3a9585cb",
   "metadata": {},
   "outputs": [],
   "source": [
    "ords_prods_custs_noPII_3['count_dependants'].value_counts()"
   ]
  },
  {
   "cell_type": "code",
   "execution_count": null,
   "id": "87959d7a",
   "metadata": {
    "scrolled": false
   },
   "outputs": [],
   "source": [
    "# Investigate Number of Dependents\n",
    "# Create a bar chart of dependents\n",
    "\n",
    "dependants_counts = ords_prods_custs_noPII_3['count_dependants'].value_counts().sort_index(ascending=False)\n",
    "bar_dependants = dependants_counts.sort_index().plot.bar()\n",
    "\n",
    "plt.xlabel('Number of Dependants', fontweight = 'bold')\n",
    "plt.ylabel('Number of Customers', fontweight = 'bold')\n",
    "plt.xticks(rotation = 0)\n",
    "plt.title('How Many Dependants Do Our Customers Have?')\n",
    "# Set the y-axis limits to start from 6 million\n",
    "plt.ylim(7700000, dependants_counts.max() + 10000)\n",
    "# Add data labels to the bars\n",
    "for i, v in enumerate(dependants_counts.sort_index()):\n",
    "    plt.text(i, v, f'{v / 1000000:.2f}M', ha='center', va='baseline', fontsize=10)\n",
    "plt.show()\n"
   ]
  },
  {
   "cell_type": "code",
   "execution_count": null,
   "id": "85338179",
   "metadata": {},
   "outputs": [],
   "source": [
    "# Export viz \n",
    "\n",
    "bar_dependants.figure.savefig(os.path.join(path, '04 Analysis','Visualizations','4.10_Visualizations', 'bar_dependants.png'))"
   ]
  },
  {
   "cell_type": "markdown",
   "id": "86e596be",
   "metadata": {},
   "source": [
    "### Observations:\n",
    "**Our customers are evenly distributed among four categories based on the number of dependants. One-quarter (25%) of our customers live in single-person households. The remaining three-quarters (75%) of our customers are distributed among households with a varying numbers of dependants.**"
   ]
  },
  {
   "cell_type": "code",
   "execution_count": null,
   "id": "413aeb04",
   "metadata": {
    "scrolled": false
   },
   "outputs": [],
   "source": [
    "# Create a histogram of 'order_hour_of_day' with 24 bins\n",
    "# Specify the bin edges to align bars with tick marks\n",
    "bin_edges = range(0, 25)  # 25 bins, each representing an hour\n",
    "hist_hour_of_day = ords_prods_custs_noPII_3['order_hour_of_day'].plot.hist(bins=bin_edges, edgecolor='k')  # 'k' for black edges\n",
    "\n",
    "# Add axis labels\n",
    "plt.xlabel('Hour of the Day', fontweight = 'bold')\n",
    "plt.ylabel('Number of Orders (in Millions)', fontweight = 'bold')\n",
    "plt.title('What Hour of the Day Do Customers Place Orders?')\n",
    "\n",
    "# Set the x-axis ticks to be every 1 hour\n",
    "plt.xticks(range(0, 24, 1))\n",
    "\n",
    "# Show the plot\n",
    "plt.show()"
   ]
  },
  {
   "cell_type": "code",
   "execution_count": null,
   "id": "f1a4d45b",
   "metadata": {},
   "outputs": [],
   "source": [
    "# Export viz \n",
    "\n",
    "hist_hour_of_day.figure.savefig(os.path.join(path, '04 Analysis','Visualizations','4.10_Visualizations', 'hist_hour_of_day.png'))"
   ]
  },
  {
   "cell_type": "markdown",
   "id": "2f5bb8e5",
   "metadata": {},
   "source": [
    "### Observations:\n",
    "**The number of orders shows two distinct peaks, one between 10 am and 12 pm and another between 2 pm and 3 pm. After 3 pm, the number of orders steadily decreases until around 4 am, at which point it starts to rise again. <br>As expected, the number of orders remains low (between 37,000 and 160,000 orders) during the late-night hours.**"
   ]
  },
  {
   "cell_type": "code",
   "execution_count": null,
   "id": "0924c4c6",
   "metadata": {},
   "outputs": [],
   "source": [
    "# Create a mapping dictionary for day names\n",
    "day_mapping = {\n",
    "    2: 'Mon.',\n",
    "    3: 'Tues.',\n",
    "    4: 'Wed.',\n",
    "    5: 'Thurs.',\n",
    "    6: 'Fri.',\n",
    "    0: 'Sat.',\n",
    "    1: 'Sun.'\n",
    "}\n",
    "\n",
    "# Use the map function to create a new 'day_name' column\n",
    "ords_prods_custs_noPII_3['name_day_of_week'] = ords_prods_custs_noPII_3['order_day_of_week'].map(day_mapping)\n",
    "\n",
    "# Probe the output\n",
    "# ords_prods_custs_noPII_3[['order_day_of_week', 'name_day_of_week']].head(10)"
   ]
  },
  {
   "cell_type": "code",
   "execution_count": null,
   "id": "a206c9fc",
   "metadata": {
    "scrolled": false
   },
   "outputs": [],
   "source": [
    "#Examine count of orders by day of the week\n",
    "\n",
    "day_of_week_counts = ords_prods_custs_noPII_3['name_day_of_week'].value_counts()\n",
    "# Define the desired order of days\n",
    "desired_order = ['Sat.', 'Sun.', 'Mon.', 'Tues.', 'Wed.', 'Thurs.', 'Fri.']\n",
    "\n",
    "# Reorder the index based on the desired order\n",
    "day_of_week_counts = day_of_week_counts.reindex(desired_order)\n",
    "\n",
    "# Create a vertical bar chart\n",
    "bar_day_of_week = day_of_week_counts.plot.bar()\n",
    "\n",
    "plt.title('Orders by Day of the Week', fontweight='bold')\n",
    "plt.xticks(rotation=0)\n",
    "plt.ylim(3000000, day_of_week_counts.max() + 250000)\n",
    "\n",
    "# Add data labels to the bars\n",
    "for i, v in enumerate(day_of_week_counts):\n",
    "     plt.text(i, v, f'{v / 1_000_000:.1f}M', ha='center', va='bottom', fontsize=10)\n",
    "\n",
    "# Show the plot\n",
    "plt.show()"
   ]
  },
  {
   "cell_type": "code",
   "execution_count": null,
   "id": "8cefee37",
   "metadata": {},
   "outputs": [],
   "source": [
    "# Export viz \n",
    "\n",
    "bar_day_of_week.figure.savefig(os.path.join(path, '04 Analysis','Visualizations','4.10_Visualizations', 'bar_day_of_week.png'))"
   ]
  },
  {
   "cell_type": "markdown",
   "id": "0748476b",
   "metadata": {},
   "source": [
    "### Observations:\n",
    "**We can see that weekend days, namely Saturday and Sunday, are the busiest in terms of orders. On the other hand, Wednesday stands out as the least busy day of the week for orders.**"
   ]
  },
  {
   "cell_type": "code",
   "execution_count": null,
   "id": "299deddf",
   "metadata": {
    "scrolled": true
   },
   "outputs": [],
   "source": [
    "fam_status_counts = ords_prods_custs_noPII_3['fam_status'].value_counts()\n",
    "pie_fam_status = fam_status_counts.plot.pie(startangle = 45,\n",
    "    autopct='%.1f%%',\n",
    "    labeldistance = 1.1,\n",
    "    wedgeprops={'edgecolor':'black','linewidth':.4})\n",
    "\n",
    "centre_circle = plt.Circle((0,0),0.65,\n",
    "                           color='black', \n",
    "                           fc='white',\n",
    "                           linewidth=.4)\n",
    "fig = plt.gcf()\n",
    "fig.gca().add_artist(centre_circle)\n",
    "\n",
    "plt.title('Distribution of Customers by Family Status')\n",
    "plt.ylabel(None)\n",
    "\n",
    "# Save the figure as a PNG image with specified dimensions and DPI\n",
    "plt.savefig(os.path.join(path, '04 Analysis', 'Visualizations', '4.10_Visualizations', 'pie_fam_status.png'), dpi=100, bbox_inches='tight')\n"
   ]
  },
  {
   "cell_type": "code",
   "execution_count": null,
   "id": "67076bb9",
   "metadata": {
    "scrolled": true
   },
   "outputs": [],
   "source": [
    "# Calculate the value counts for 'loyalty_flag'\n",
    "loyalty_counts = ords_prods_custs_noPII_3['loyalty_flag'].value_counts()\n",
    "\n",
    "# Create a horizontal bar chart\n",
    "bar_loyalty_flag = loyalty_counts.plot.barh()\n",
    "\n",
    "# Add title and labels to the axes\n",
    "plt.title('Customer Loyalty')\n",
    "plt.xlabel('Number of Customers (in 10 Millions)', fontweight = 'bold')\n",
    "plt.ylabel('Customer Type', fontweight = 'bold')\n",
    "\n",
    "# Add percentages to each bar\n",
    "total = loyalty_counts.sum()\n",
    "for index, value in enumerate(loyalty_counts):\n",
    "    percentage = (value / total) * 100\n",
    "    plt.text(value, index, f'{percentage:.0f}%', ha='left', va='center')\n",
    "\n",
    "    \n",
    "# Save the figure as a PNG image with specified dimensions and DPI\n",
    "plt.savefig(os.path.join(path, '04 Analysis','Visualizations','4.10_Visualizations','bar_loyalty_flag.png'), dpi=100, bbox_inches='tight')\n"
   ]
  },
  {
   "cell_type": "markdown",
   "id": "322e1330",
   "metadata": {},
   "source": [
    "### Observations:\n",
    "**Half of our customers are identified as \"regular customers\" whose total count of orders is more than 10 and equal or less than 40. <br>\n",
    "33% of customers are \"loyal customers\" whose total count of orders is higher than 40.<br>\n",
    "16% of customers are \"new customers\" whose total count of orders is less morre equal to 10.**"
   ]
  },
  {
   "cell_type": "markdown",
   "id": "856728ce",
   "metadata": {},
   "source": [
    "### 6. Create an appropriate visualization to show the distribution of profiles."
   ]
  },
  {
   "cell_type": "markdown",
   "id": "c9a8d01e",
   "metadata": {},
   "source": [
    "Done."
   ]
  },
  {
   "cell_type": "markdown",
   "id": "0b0706ae",
   "metadata": {},
   "source": [
    "### 7. Aggregate the max, mean, and min variables on a customer-profile level for usage frequency and expenditure."
   ]
  },
  {
   "cell_type": "code",
   "execution_count": null,
   "id": "fe0c316a",
   "metadata": {
    "scrolled": true
   },
   "outputs": [],
   "source": [
    "# Have an overview of all columns\n",
    "\n",
    "ords_prods_custs_noPII_3.info()"
   ]
  },
  {
   "cell_type": "code",
   "execution_count": null,
   "id": "87a181fc",
   "metadata": {
    "scrolled": false
   },
   "outputs": [],
   "source": [
    "# Perform multiple aggregations on \"income_flag\" fof usage frequency and expenditure\n",
    "\n",
    "ords_prods_custs_noPII_3.groupby('income_flag').agg({'prices':['max','mean','min'],'no_of_days_since_last_order':['max','mean','min']})"
   ]
  },
  {
   "cell_type": "markdown",
   "id": "0d2570aa",
   "metadata": {},
   "source": [
    "### Observations:\n",
    "**1. Regular-income and high-income customers exhibit similar spending patterns, with comparable average spending and shopping frequency.**<br>\n",
    "**2. In contrast, low-income customers, on average, spend around `$7.13` per item, while both regular-income and high-income customers spend around `$7.95` on average. This results in an expenditure difference of `$0.82` per item between low-income and regular/high-income customers.**<br>\n",
    "**3. As expected, low-income customers make purchases less frequently than their regular and high-income counterparts.**"
   ]
  },
  {
   "cell_type": "code",
   "execution_count": null,
   "id": "749f0513",
   "metadata": {
    "scrolled": true
   },
   "outputs": [],
   "source": [
    "# Perform multiple aggregations on \"spending_flag\" fof usage frequency and expenditure\n",
    "\n",
    "ords_prods_custs_noPII_3.groupby('spending_flag').agg({'prices':['max','mean','min'],'no_of_days_since_last_order':['max','mean','min']})"
   ]
  },
  {
   "cell_type": "markdown",
   "id": "9c9aa535",
   "metadata": {},
   "source": [
    "### Observations:\n",
    "**High spenders, on average, spend around `$10.6` per item, while low spenders spend `$7.8` on average. This results in a significant difference of `$2.8` per item.\n",
    "It's important to note that high spenders do not make purchases as frequently as low spenders. This may be a contributing factor to the observation that high spenders tend to spend more per order.**\n",
    "\n",
    "**Note:** <br>\n",
    "Low spender: The mean of the prices of products purchased by a user is lower than 10.<br>\n",
    "High spender: The mean of the prices of products purchased by a user is higher than or equal to 10."
   ]
  },
  {
   "cell_type": "markdown",
   "id": "e22d85da",
   "metadata": {},
   "source": [
    "### 8. Compare your customer profiles with regions and departments. Can you identify a link between them? Customers may demonstrate different behaviors across regions, which could make this information important."
   ]
  },
  {
   "cell_type": "markdown",
   "id": "b1a9294c",
   "metadata": {},
   "source": [
    "### Create samples by spliting dataframe into 70/30 ration"
   ]
  },
  {
   "cell_type": "code",
   "execution_count": null,
   "id": "82f1fa44",
   "metadata": {},
   "outputs": [],
   "source": [
    "# Create a list holding True/False values to the test np.random.rand() <= 0.7\n",
    "\n",
    "np.random.seed(4)\n",
    "dev = np.random.rand(len(ords_prods_custs_noPII_3)) <= 0.7"
   ]
  },
  {
   "cell_type": "code",
   "execution_count": null,
   "id": "4700acaa",
   "metadata": {},
   "outputs": [],
   "source": [
    "# Store 70% of the sample in the dataframe big\n",
    "\n",
    "big = ords_prods_custs_noPII_3[dev]"
   ]
  },
  {
   "cell_type": "code",
   "execution_count": null,
   "id": "94762cb4",
   "metadata": {},
   "outputs": [],
   "source": [
    "# Store 30% of the sample in the dataframe small\n",
    "\n",
    "small = ords_prods_custs_noPII_3[~dev]"
   ]
  },
  {
   "cell_type": "code",
   "execution_count": null,
   "id": "7260e062",
   "metadata": {},
   "outputs": [],
   "source": [
    "# Confirm the output\n",
    "\n",
    "len(ords_prods_custs_noPII_3)"
   ]
  },
  {
   "cell_type": "code",
   "execution_count": null,
   "id": "b62ab6a2",
   "metadata": {
    "scrolled": true
   },
   "outputs": [],
   "source": [
    "len(big)+len(small)"
   ]
  },
  {
   "cell_type": "code",
   "execution_count": null,
   "id": "2f7e7b26",
   "metadata": {},
   "outputs": [],
   "source": [
    "ords_prods_custs_noPII_3['department'].value_counts()"
   ]
  },
  {
   "cell_type": "markdown",
   "id": "78b32d4d",
   "metadata": {},
   "source": [
    "### -> Regional Comparison: Genders v.s. Alcohol Items"
   ]
  },
  {
   "cell_type": "code",
   "execution_count": null,
   "id": "dc596534",
   "metadata": {},
   "outputs": [],
   "source": [
    "# Create a subset \n",
    "\n",
    "df_alcohol = small[small['department'] == 'alcohol']"
   ]
  },
  {
   "cell_type": "code",
   "execution_count": null,
   "id": "73d3ec39",
   "metadata": {
    "scrolled": false
   },
   "outputs": [],
   "source": [
    "# Create a viz \n",
    "\n",
    "cross_gen_alcohol = pd.crosstab(df_alcohol['region'], df_alcohol['gender'], dropna = False)\n",
    "bar_cross_gen_alcohol = cross_gen_alcohol.plot.barh()\n",
    "\n",
    "plt.xlabel('Number of Customers', fontweight = 'bold')\n",
    "plt.ylabel(' ')\n",
    "plt.title('Regional Comparison: Genders v.s. Alcohol')\n",
    "\n",
    "plt.show()"
   ]
  },
  {
   "cell_type": "code",
   "execution_count": null,
   "id": "9e98cd51",
   "metadata": {},
   "outputs": [],
   "source": [
    "# Confirm both genders are evenly represented in the dataframe to avoid bias\n",
    "\n",
    "small['gender'].value_counts(dropna = False)"
   ]
  },
  {
   "cell_type": "code",
   "execution_count": null,
   "id": "ebc7f2af",
   "metadata": {},
   "outputs": [],
   "source": [
    "# Export viz \n",
    "\n",
    "bar_cross_gen_alcohol.figure.savefig(os.path.join(path, '04 Analysis','Visualizations','4.10_Visualizations', 'bar_cross_gen_alcohol.png'))"
   ]
  },
  {
   "cell_type": "markdown",
   "id": "400cc507",
   "metadata": {},
   "source": [
    "### Observations:\n",
    "**Female customers tend to purchase more alcoholic beverages than their counterparts in all regions, with the exception of the Midwest.**"
   ]
  },
  {
   "cell_type": "markdown",
   "id": "b798d436",
   "metadata": {},
   "source": [
    "### -> Create line charts to examine spending trend throughout the day"
   ]
  },
  {
   "cell_type": "code",
   "execution_count": null,
   "id": "17b52b36",
   "metadata": {},
   "outputs": [],
   "source": [
    "# To speed up the processing time, reduce the samples to only those columns necessary for the chart\n",
    "\n",
    "df_2 = small[['order_hour_of_day','prices']]"
   ]
  },
  {
   "cell_type": "code",
   "execution_count": null,
   "id": "152fa058",
   "metadata": {},
   "outputs": [],
   "source": [
    "# Create a line chart\n",
    "\n",
    "line_hour_prices = sns.lineplot(data = df_2, x = 'order_hour_of_day',y = 'prices')\n",
    "plt.title('Spending Trend Throughout the Day')\n",
    "plt.xticks(range(0, 24, 1))\n",
    "plt.show()"
   ]
  },
  {
   "cell_type": "code",
   "execution_count": null,
   "id": "6c322e31",
   "metadata": {},
   "outputs": [],
   "source": [
    "# Export viz \n",
    "\n",
    "line_hour_prices.figure.savefig(os.path.join(path, '04 Analysis','Visualizations','4.10_Visualizations', 'line_hour_prices.png'))"
   ]
  },
  {
   "cell_type": "code",
   "execution_count": null,
   "id": "c79ab2f4",
   "metadata": {
    "scrolled": false
   },
   "outputs": [],
   "source": [
    "# Examine popularity of departments across regions\n",
    "# Create a crosstab between region and department \n",
    "\n",
    "cross_region_dep = pd.crosstab(ords_prods_custs_noPII_3['region'], ords_prods_custs_noPII_3['department'], dropna = False)\n",
    "\n",
    "# Sort each region's departments by the number of orders and select the top 5\n",
    "top5_departments = cross_region_dep.apply(lambda x: x.sort_values(ascending = False).head(5), axis=1)\n",
    "\n",
    "# Create a horizontal bar chart\n",
    "bar_cross_region_top5_dep = top5_departments.plot.barh()\n",
    "\n",
    "plt.xlabel('Number of Orders (in Millions)', fontweight='bold')\n",
    "plt.ylabel('Region', fontweight='bold')\n",
    "plt.title('Top 5 Departments by Region')\n",
    "\n",
    "# Add a legend\n",
    "plt.legend(title='Department')\n",
    "\n",
    "plt.show()"
   ]
  },
  {
   "cell_type": "code",
   "execution_count": null,
   "id": "dfcdbb16",
   "metadata": {},
   "outputs": [],
   "source": [
    "# Export viz \n",
    "\n",
    "bar_cross_region_top5_dep.figure.savefig(os.path.join(path, '04 Analysis','Visualizations','4.10_Visualizations', 'bar_cross_region_top5_dep.png'))"
   ]
  },
  {
   "cell_type": "markdown",
   "id": "90802754",
   "metadata": {},
   "source": [
    "### Observations:\n",
    "**All regions consistently reflect the nationwide trend with their respective top 5 departments. These departments, ranked by the number of orders, remain uniform across all regions, reinforcing a cohesive nationwide preference.**"
   ]
  },
  {
   "cell_type": "code",
   "execution_count": null,
   "id": "59b08ad2",
   "metadata": {},
   "outputs": [],
   "source": [
    "# Explore the relationship between age and income\n",
    "\n",
    "scatter_age_income_small = sns.scatterplot(x = 'age', y = 'income', data = small)"
   ]
  },
  {
   "cell_type": "markdown",
   "id": "0709b60f",
   "metadata": {},
   "source": [
    "### Observations:\n",
    "**1. Across all age groups, the majority of customers have an annual income below 200,000. \n",
    "<br> 2. However, there is a concentrated cluster of customers aged over 40 with incomes ranging between 200,000 and 300,000. \n",
    "<br> 3. Customers below 40 years of age have a maximum income around 400,000, whereas those older than 40 have a maximum income that reaches as high as 600,000.**"
   ]
  },
  {
   "cell_type": "markdown",
   "id": "8460c716",
   "metadata": {},
   "source": [
    "### 9. Produce suitable charts to illustrate your results and export them in your project folder."
   ]
  },
  {
   "cell_type": "markdown",
   "id": "aa6286fc",
   "metadata": {},
   "source": [
    "Done."
   ]
  },
  {
   "cell_type": "markdown",
   "id": "ed239e0e",
   "metadata": {},
   "source": [
    "### 10. Tidy up your script, export your final data set, and save your notebook."
   ]
  },
  {
   "cell_type": "code",
   "execution_count": null,
   "id": "1fadc591",
   "metadata": {},
   "outputs": [],
   "source": [
    "# Save dataframe as pkl file\n",
    "\n",
    "ords_prods_custs_noPII_3.to_pickle(os.path.join(path, '02 Data','Prepared Data', 'orders_products_final.pkl'))"
   ]
  },
  {
   "cell_type": "code",
   "execution_count": null,
   "id": "04efab6f",
   "metadata": {},
   "outputs": [],
   "source": []
  }
 ],
 "metadata": {
  "kernelspec": {
   "display_name": "Python 3 (ipykernel)",
   "language": "python",
   "name": "python3"
  },
  "language_info": {
   "codemirror_mode": {
    "name": "ipython",
    "version": 3
   },
   "file_extension": ".py",
   "mimetype": "text/x-python",
   "name": "python",
   "nbconvert_exporter": "python",
   "pygments_lexer": "ipython3",
   "version": "3.11.4"
  }
 },
 "nbformat": 4,
 "nbformat_minor": 5
}
